{
 "cells": [
  {
   "cell_type": "code",
   "execution_count": null,
   "metadata": {},
   "outputs": [],
   "source": [
    "#!/usr/bin/env python3\n",
    "# -*- coding: utf-8 -*-\n",
    "\"\"\"\n",
    "@author: valentinakomarova\n",
    "\"\"\"\n",
    "\n",
    "import csv\n",
    "import numpy as np\n",
    "import pandas as pd\n",
    "from sklearn.neural_network import MLPRegressor\n",
    "from sklearn import model_selection\n",
    "from sklearn import metrics\n",
    "from sklearn import linear_model\n",
    "from sklearn.preprocessing import OneHotEncoder\n",
    "from sklearn.compose import ColumnTransformer\n",
    "from sklearn.preprocessing import LabelEncoder\n",
    "from sklearn.model_selection import train_test_split\n",
    "import matplotlib.pyplot as plt\n",
    "import seaborn as sns\n",
    "from sklearn.impute import SimpleImputer\n",
    "from sklearn.pipeline import Pipeline\n",
    "from sklearn.preprocessing import MinMaxScaler"
   ]
  },
  {
   "cell_type": "code",
   "execution_count": null,
   "metadata": {},
   "outputs": [],
   "source": [
    "#loading data\n",
    "df = pd.read_csv('clean_Airbnb_data.csv')\n",
    "\n",
    "df.head()"
   ]
  },
  {
   "cell_type": "code",
   "execution_count": null,
   "metadata": {
    "scrolled": true
   },
   "outputs": [],
   "source": [
    "# Getting summary\n",
    "\n",
    "df.describe()"
   ]
  },
  {
   "cell_type": "code",
   "execution_count": null,
   "metadata": {},
   "outputs": [],
   "source": [
    "# correlation table - between the variables\n",
    "\n",
    "cor = df.corr()\n",
    "sns.heatmap(cor, annot = True, cmap = plt.cm.Reds)\n",
    "\n",
    "#correlation table - with target variable Price\n",
    "corr_Price = abs(cor['price']).sort_values(ascending = False)\n",
    "print(corr_Price)"
   ]
  },
  {
   "cell_type": "code",
   "execution_count": null,
   "metadata": {},
   "outputs": [],
   "source": [
    "# checking for NAs one last time \n",
    "\n",
    "df.dropna(inplace=True)\n",
    "df.describe()"
   ]
  },
  {
   "cell_type": "code",
   "execution_count": null,
   "metadata": {},
   "outputs": [],
   "source": [
    "#Prepare the dataset for the machine learning pipeline\n",
    "\n",
    "# define X and y\n",
    "X = df.drop(['price'], axis=1)\n",
    "y = df['price'].values\n",
    "\n",
    "# split into test and train\n",
    "X_train, X_test, y_train, y_test = train_test_split(X, y, test_size = 0.3, random_state = 42)\n",
    "\n",
    "X_train_num = X_train.select_dtypes(include=np.number)\n",
    "X_train_cat = df.select_dtypes(exclude=['number'])"
   ]
  },
  {
   "cell_type": "code",
   "execution_count": null,
   "metadata": {},
   "outputs": [],
   "source": [
    "X_train_num.head()"
   ]
  },
  {
   "cell_type": "code",
   "execution_count": null,
   "metadata": {
    "scrolled": true
   },
   "outputs": [],
   "source": [
    "#Encoding labels for categorical features\n",
    "\n",
    "labelencoder = LabelEncoder()\n",
    "\n",
    "#applying label encoding for categorical features in train set\n",
    "X_train_cat=X_train_cat.apply(LabelEncoder().fit_transform)"
   ]
  },
  {
   "cell_type": "code",
   "execution_count": null,
   "metadata": {},
   "outputs": [],
   "source": [
    "num_attribs = list (X_train_num)\n",
    "cat_attribs = list (X_train_cat)\n",
    "\n",
    "#creating a full pipeline: numerical + categorical\n",
    "#full_pipeline = ColumnTransformer([(\"num\",num_pipeline,num_attribs),(\"cat\",OneHotEncoder(handle_unknown='ignore'),cat_attribs)])\n",
    "full_pipeline = ColumnTransformer([(\"cat\",OneHotEncoder(handle_unknown='ignore'),cat_attribs)])\n",
    "\n",
    "\n",
    "#fit and transform the train set using the full pipeline\n",
    "X_train_prep = full_pipeline.fit_transform(X_train)"
   ]
  },
  {
   "cell_type": "code",
   "execution_count": null,
   "metadata": {},
   "outputs": [],
   "source": [
    "#only transform the test set using the full pipeline\n",
    "X_test_prep = full_pipeline.transform(X_test)"
   ]
  },
  {
   "cell_type": "code",
   "execution_count": null,
   "metadata": {},
   "outputs": [],
   "source": [
    "# Linear model\n",
    "\n",
    "# Create linear regression object\n",
    "lin_regr = linear_model.LinearRegression()\n",
    "\n",
    "# Train the model using the training sets\n",
    "lin_regr.fit(X_train_prep, y_train)\n",
    "\n",
    "# Make predictions using the testing set\n",
    "y_pred = lin_regr.predict(X_test_prep)\n",
    "\n",
    "linear_mse = metrics.mean_squared_error(y_test, y_pred)\n",
    "\n",
    "# Look at metrics\n",
    "\n",
    "print(\"Mean squared error: %.2f\" % linear_mse)\n",
    "print(\"R squared: %.2f\" % metrics.r2_score(y_test, y_pred))"
   ]
  },
  {
   "cell_type": "code",
   "execution_count": null,
   "metadata": {},
   "outputs": [],
   "source": [
    "#neural networks models\n",
    "\n",
    "model_nn1 = MLPRegressor(hidden_layer_sizes=(10),random_state=1,max_iter=2000)\n",
    "model_nn1 = model_nn1.fit(X_train_prep, y_train)\n",
    "predicted = model_nn1.predict(X_test_prep)\n",
    "print(\"model_nn1 MSE:\", metrics.mean_squared_error(y_test, predicted))\n",
    "print(\"model_nn1 R Squared:\", metrics.r2_score(y_test, predicted))\n",
    "\n",
    "\n",
    "model_nn2 = MLPRegressor(hidden_layer_sizes=(10,10),random_state=1,max_iter=2000)\n",
    "model_nn2 = model_nn2.fit(X_train_prep, y_train)\n",
    "predicted = model_nn2.predict(X_test_prep)\n",
    "print(\"model_nn2 MSE:\", metrics.mean_squared_error(y_test, predicted))\n",
    "print(\"model_nn2 R Squared:\", metrics.r2_score(y_test, predicted))\n",
    "\n",
    "model_nn3 = MLPRegressor(hidden_layer_sizes=(10,10,10),random_state=1,max_iter=2000)\n",
    "model_nn3 = model_nn3.fit(X_train_prep, y_train)\n",
    "predicted = model_nn3.predict(X_test_prep)\n",
    "print(\"model_nn3 MSE:\", metrics.mean_squared_error(y_test, predicted))\n",
    "print(\"model_nn3 R Squared:\", metrics.r2_score(y_test, predicted))\n",
    "\n"
   ]
  },
  {
   "cell_type": "code",
   "execution_count": null,
   "metadata": {},
   "outputs": [],
   "source": []
  }
 ],
 "metadata": {
  "kernelspec": {
   "display_name": "Python 3",
   "language": "python",
   "name": "python3"
  },
  "language_info": {
   "codemirror_mode": {
    "name": "ipython",
    "version": 3
   },
   "file_extension": ".py",
   "mimetype": "text/x-python",
   "name": "python",
   "nbconvert_exporter": "python",
   "pygments_lexer": "ipython3",
   "version": "3.8.5"
  }
 },
 "nbformat": 4,
 "nbformat_minor": 4
}
